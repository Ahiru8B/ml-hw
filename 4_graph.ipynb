{
  "cells": [
    {
      "cell_type": "markdown",
      "metadata": {
        "id": "view-in-github",
        "colab_type": "text"
      },
      "source": [
        "<a href=\"https://colab.research.google.com/github/Ahiru8B/ml-hw/blob/main/4_graph.ipynb\" target=\"_parent\"><img src=\"https://colab.research.google.com/assets/colab-badge.svg\" alt=\"Open In Colab\"/></a>"
      ]
    },
    {
      "cell_type": "markdown",
      "id": "0bbf4b5c",
      "metadata": {
        "id": "0bbf4b5c"
      },
      "source": [
        "# Графовые алгоритмы"
      ]
    },
    {
      "cell_type": "markdown",
      "id": "5031ac69",
      "metadata": {
        "id": "5031ac69"
      },
      "source": [
        "Граф - это структура, которая отображает данные в виде *вершин* и *ребер*. Граф может быть представлени в виде **aGraph = (V, E)** , где **V** - набор вершин, а **E** - ребро между ними. Ребро соединяет две вершины и таким образом отображает связь между ними."
      ]
    },
    {
      "cell_type": "code",
      "execution_count": 2,
      "id": "15fb47c5",
      "metadata": {
        "ExecuteTime": {
          "end_time": "2023-09-29T19:50:49.754406Z",
          "start_time": "2023-09-29T19:50:48.608512Z"
        },
        "id": "15fb47c5"
      },
      "outputs": [],
      "source": [
        "import networkx as nx\n",
        "import matplotlib.pyplot as plt"
      ]
    },
    {
      "cell_type": "markdown",
      "id": "1ce9bc6a",
      "metadata": {
        "id": "1ce9bc6a"
      },
      "source": [
        "## Поиск в ширину"
      ]
    },
    {
      "cell_type": "markdown",
      "id": "977df9d5",
      "metadata": {
        "id": "977df9d5"
      },
      "source": [
        "Алгоритм **BFS (breadth-first search)** начинает с корневой вершины и исследует вершины в окрестности. Затем он преходит на следующий уровень окрестности и повторяет процесс."
      ]
    },
    {
      "cell_type": "code",
      "execution_count": 3,
      "id": "f97261e7",
      "metadata": {
        "ExecuteTime": {
          "end_time": "2023-09-29T20:39:44.300589Z",
          "start_time": "2023-09-29T20:39:44.294476Z"
        },
        "id": "f97261e7"
      },
      "outputs": [],
      "source": [
        "def bfs(graph, start):\n",
        "    visited = []\n",
        "    queue = [start]\n",
        "\n",
        "    while queue:\n",
        "        node = queue.pop(0)\n",
        "        if node not in visited:\n",
        "            visited.append(node)\n",
        "            neighbours = graph[node]\n",
        "            for neighbour in neighbours:\n",
        "                queue.append(neighbour)\n",
        "    return visited"
      ]
    },
    {
      "cell_type": "code",
      "execution_count": 4,
      "id": "7e7b1e27",
      "metadata": {
        "ExecuteTime": {
          "end_time": "2023-09-29T20:04:53.422694Z",
          "start_time": "2023-09-29T20:04:53.325345Z"
        },
        "colab": {
          "base_uri": "https://localhost:8080/",
          "height": 516
        },
        "id": "7e7b1e27",
        "outputId": "000c5073-1562-42ac-dbf2-6997e2a09576"
      },
      "outputs": [
        {
          "output_type": "display_data",
          "data": {
            "text/plain": [
              "<Figure size 640x480 with 1 Axes>"
            ],
            "image/png": "[encoded data removed]"
          },
          "metadata": {}
        }
      ],
      "source": [
        "vertices = ('a', 'b', 'c', 'd', 'e', 'f')\n",
        "edges = [('a', 'b'), ('a', 'c'), ('a', 'd'), ('b', 'e'), ('b', 'a'),\n",
        "         ('e', 'b'), ('e', 'f'), ('f', 'e'), ('c', 'a')]\n",
        "\n",
        "G = nx.Graph()\n",
        "G.add_nodes_from(vertices)\n",
        "G.add_edges_from(edges)\n",
        "\n",
        "nx.draw(G,\n",
        "        pos=nx.spring_layout(G),\n",
        "        with_labels=True,\n",
        "        node_color='y',\n",
        "        node_size=800)"
      ]
    },
    {
      "cell_type": "code",
      "execution_count": 5,
      "id": "490cd9fd",
      "metadata": {
        "ExecuteTime": {
          "end_time": "2023-09-29T20:39:37.463778Z",
          "start_time": "2023-09-29T20:39:37.452331Z"
        },
        "colab": {
          "base_uri": "https://localhost:8080/"
        },
        "id": "490cd9fd",
        "outputId": "37eb88da-f833-4a8d-b765-e4c9ff1e43c0"
      },
      "outputs": [
        {
          "output_type": "execute_result",
          "data": {
            "text/plain": [
              "['a', 'b', 'c', 'd', 'e', 'f']"
            ]
          },
          "metadata": {},
          "execution_count": 5
        }
      ],
      "source": [
        "bfs(G, 'a')"
      ]
    },
    {
      "cell_type": "markdown",
      "id": "b54e34af",
      "metadata": {
        "id": "b54e34af"
      },
      "source": [
        "## Поиск в глубину"
      ]
    },
    {
      "cell_type": "markdown",
      "id": "4039e0b1",
      "metadata": {
        "id": "4039e0b1"
      },
      "source": [
        "Алгоритм **DFS (depth-first search)** - это альтернатива BFS, используемая для поиска данных в графе. DFS отличается от BFS тем, что после запуска из корневой вершины алгоритм проходит как можно дальше по каждому из уникальных путей, перебирая их одина за другим.\n",
        "\n",
        "Логика алгоритма следующая:\n",
        "\n",
        "- Как только он успешно достигает конечной глубины каждого пути, он помечает флагом все вершины на этом пути как посещенные. После завершения пути алгоритм возвращается назад.\n",
        "- Если он может найти еще один уникальный путь от корневого узла, процесс повторяется.\n",
        "- Алгоритм продолжает двигаться по новым ветвям до тех пор, пока все ветви не будут посещены."
      ]
    },
    {
      "cell_type": "code",
      "execution_count": 6,
      "id": "864dcb75",
      "metadata": {
        "ExecuteTime": {
          "end_time": "2023-09-29T20:07:09.492874Z",
          "start_time": "2023-09-29T20:07:09.487462Z"
        },
        "id": "864dcb75"
      },
      "outputs": [],
      "source": [
        "def dfs(graph, start, visited=None):\n",
        "    if visited is None:\n",
        "        visited = set()\n",
        "    visited.add(start)\n",
        "    print(start)\n",
        "    for next in graph[start] - visited:\n",
        "        dfs(graph, next, visited)\n",
        "    return visited"
      ]
    },
    {
      "cell_type": "code",
      "execution_count": 7,
      "id": "466f1e6a",
      "metadata": {
        "ExecuteTime": {
          "end_time": "2023-09-29T20:07:21.078093Z",
          "start_time": "2023-09-29T20:07:21.068304Z"
        },
        "colab": {
          "base_uri": "https://localhost:8080/"
        },
        "id": "466f1e6a",
        "outputId": "a149341f-34dd-473f-959e-4f08c2636f63"
      },
      "outputs": [
        {
          "output_type": "stream",
          "name": "stdout",
          "text": [
            "a\n",
            "b\n",
            "e\n",
            "f\n",
            "c\n",
            "d\n"
          ]
        },
        {
          "output_type": "execute_result",
          "data": {
            "text/plain": [
              "{'a', 'b', 'c', 'd', 'e', 'f'}"
            ]
          },
          "metadata": {},
          "execution_count": 7
        }
      ],
      "source": [
        "graph = {'a': set(['b','c','d']),\n",
        "         'b': set(['e','a']),\n",
        "         'c': set(['a']),\n",
        "         'd': set(['a']),\n",
        "         'e': set(['b','f']),\n",
        "         'f': set(['e']),\n",
        "         }\n",
        "\n",
        "dfs(graph, start='a')"
      ]
    },
    {
      "cell_type": "markdown",
      "id": "ea5734a0",
      "metadata": {
        "id": "ea5734a0"
      },
      "source": [
        "## Задание (2 балла) + 4 б"
      ]
    },
    {
      "cell_type": "markdown",
      "id": "09ddd10b",
      "metadata": {
        "ExecuteTime": {
          "end_time": "2023-09-29T20:23:44.694347Z",
          "start_time": "2023-09-29T20:23:44.686957Z"
        },
        "id": "09ddd10b"
      },
      "source": [
        "Создать и нарисовать произвольный граф двумя описанными выше способами, и реальзовать для него алгоритмы BFS и DFS"
      ]
    },
    {
      "cell_type": "code",
      "execution_count": 27,
      "id": "51039be4",
      "metadata": {
        "colab": {
          "base_uri": "https://localhost:8080/",
          "height": 638
        },
        "id": "51039be4",
        "outputId": "9c490525-787f-470a-a4f0-4d61cc00f816"
      },
      "outputs": [
        {
          "output_type": "stream",
          "name": "stdout",
          "text": [
            "['a', 'b', 'e', 'c', 'd']\n",
            "a\n",
            "b\n",
            "c\n",
            "d\n",
            "e\n",
            "{'e', 'd', 'b', 'c', 'a'}\n"
          ]
        },
        {
          "output_type": "display_data",
          "data": {
            "text/plain": [
              "<Figure size 640x480 with 1 Axes>"
            ],
            "image/png": "[encoded data removed]"
          },
          "metadata": {}
        }
      ],
      "source": [
        "#решение\n",
        "def converter(edges):\n",
        "  mapGraph = {}\n",
        "  for pair in edges:\n",
        "    if pair[0] not in mapGraph:\n",
        "      mapGraph[pair[0]] = set()\n",
        "    mapGraph[pair[0]].add(pair[1])\n",
        "  return mapGraph\n",
        "\n",
        "nodes = {\"a\", \"b\", \"c\", \"d\", \"e\"}\n",
        "edges = {(\"a\", \"b\"), (\"b\", \"c\"), (\"c\", \"d\"), (\"d\", \"e\"), (\"e\", \"a\"), (\"e\", \"b\")}\n",
        "\n",
        "newGraph = nx.Graph()\n",
        "newGraph.add_nodes_from(nodes)\n",
        "newGraph.add_edges_from(edges)\n",
        "nx.draw(newGraph,\n",
        "        pos=nx.spring_layout(newGraph),\n",
        "        with_labels=True,\n",
        "        node_color='green',\n",
        "        node_size=800)\n",
        "\n",
        "\n",
        "print(bfs(newGraph, \"a\"))\n",
        "print(dfs(converter(edges), \"a\"))"
      ]
    }
  ],
  "metadata": {
    "kernelspec": {
      "display_name": "Python 3 (ipykernel)",
      "language": "python",
      "name": "python3"
    },
    "language_info": {
      "codemirror_mode": {
        "name": "ipython",
        "version": 3
      },
      "file_extension": ".py",
      "mimetype": "text/x-python",
      "name": "python",
      "nbconvert_exporter": "python",
      "pygments_lexer": "ipython3",
      "version": "3.8.10"
    },
    "latex_envs": {
      "LaTeX_envs_menu_present": true,
      "autoclose": false,
      "autocomplete": true,
      "bibliofile": "biblio.bib",
      "cite_by": "apalike",
      "current_citInitial": 1,
      "eqLabelWithNumbers": true,
      "eqNumInitial": 1,
      "hotkeys": {
        "equation": "Ctrl-E",
        "itemize": "Ctrl-I"
      },
      "labels_anchors": false,
      "latex_user_defs": false,
      "report_style_numbering": false,
      "user_envs_cfg": false
    },
    "toc": {
      "base_numbering": 1,
      "nav_menu": {},
      "number_sections": true,
      "sideBar": true,
      "skip_h1_title": false,
      "title_cell": "Table of Contents",
      "title_sidebar": "Contents",
      "toc_cell": false,
      "toc_position": {},
      "toc_section_display": true,
      "toc_window_display": true
    },
    "varInspector": {
      "cols": {
        "lenName": 16,
        "lenType": 16,
        "lenVar": 40
      },
      "kernels_config": {
        "python": {
          "delete_cmd_postfix": "",
          "delete_cmd_prefix": "del ",
          "library": "var_list.py",
          "varRefreshCmd": "print(var_dic_list())"
        },
        "r": {
          "delete_cmd_postfix": ") ",
          "delete_cmd_prefix": "rm(",
          "library": "var_list.r",
          "varRefreshCmd": "cat(var_dic_list()) "
        }
      },
      "types_to_exclude": [
        "module",
        "function",
        "builtin_function_or_method",
        "instance",
        "_Feature"
      ],
      "window_display": false
    },
    "colab": {
      "provenance": [],
      "include_colab_link": true
    }
  },
  "nbformat": 4,
  "nbformat_minor": 5
}